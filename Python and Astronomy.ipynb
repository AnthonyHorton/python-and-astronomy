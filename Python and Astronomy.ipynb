{
 "cells": [
  {
   "cell_type": "markdown",
   "metadata": {},
   "source": [
    "# Python\n",
    "\n",
    "* General purpose, interactive, object-orientated high level programming language with a large standard library\n",
    "* Free and open source, available on many platforms\n",
    "* Large & active user community, many 3rd party libraries ([PyPI](https://pypi.python.org) hosts 79753 packages)\n",
    "* 'Default' programming language for astronomy (though C/C++, FORTRAN, etc., remain important)\n",
    "\n",
    "## Python 2 & 3\n",
    "\n",
    "* \n",
    "\n",
    "![pic](resources/python3tweet.png)"
   ]
  },
  {
   "cell_type": "markdown",
   "metadata": {},
   "source": [
    "## Scientific python stack\n",
    "\n",
    "Core\n",
    "\n",
    "* Python\n",
    "* numpy\n",
    "* Scipy\n",
    "\n",
    "Graphics/plotting\n",
    "\n",
    "* Matplotib\n"
   ]
  },
  {
   "cell_type": "markdown",
   "metadata": {},
   "source": [
    "## Ipython & Jupyter"
   ]
  },
  {
   "cell_type": "markdown",
   "metadata": {},
   "source": [
    "# Astronomical libraries\n",
    "\n",
    "## PyRAF\n",
    "\n",
    "None of that here\n",
    "\n",
    "## Astropy\n",
    "\n",
    "### Affliliated packages"
   ]
  },
  {
   "cell_type": "markdown",
   "metadata": {},
   "source": [
    "# Contributing\n",
    "\n",
    "## "
   ]
  },
  {
   "cell_type": "code",
   "execution_count": null,
   "metadata": {
    "collapsed": true
   },
   "outputs": [],
   "source": []
  }
 ],
 "metadata": {
  "kernelspec": {
   "display_name": "Python 3",
   "language": "python",
   "name": "python3"
  },
  "language_info": {
   "codemirror_mode": {
    "name": "ipython",
    "version": 3
   },
   "file_extension": ".py",
   "mimetype": "text/x-python",
   "name": "python",
   "nbconvert_exporter": "python",
   "pygments_lexer": "ipython3",
   "version": "3.4.3"
  }
 },
 "nbformat": 4,
 "nbformat_minor": 0
}
