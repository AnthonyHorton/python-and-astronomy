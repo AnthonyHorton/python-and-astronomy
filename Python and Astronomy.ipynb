{
 "cells": [
  {
   "cell_type": "markdown",
   "metadata": {},
   "source": [
    "# [Python](http://www.python.org)\n",
    "\n",
    "![Python logo](resources/python-logo.png)\n",
    "\n",
    "* General purpose, interactive, object-orientated high level programming language with a large standard library\n",
    "* Free and open source, available on many platforms\n",
    "* Large & active user community, many 3rd party libraries (Python Package Index, [PyPI](https://pypi.python.org), hosts 79753 packages)\n",
    "* 'Default' programming language for astronomy (though C/C++, FORTRAN, etc., remain important)"
   ]
  },
  {
   "cell_type": "code",
   "execution_count": 19,
   "metadata": {
    "collapsed": true
   },
   "outputs": [],
   "source": [
    "import antigravity"
   ]
  },
  {
   "cell_type": "markdown",
   "metadata": {},
   "source": [
    "## [Python 2 & 3?](https://wiki.python.org/moin/Python2orPython3)\n",
    "\n",
    "* Two imcompatible branches of Python currently supported, 2.x & 3.x\n",
    "* Which to use? From the [Python documentation](https://wiki.python.org/moin/Python2orPython3):\n",
    "\n",
    "> *Short version: Python 2.x is legacy, Python 3.x is the present and future of the language*\n",
    "> \n",
    "> Python 3.0 was released in 2008. The final 2.x version 2.7 release came out in mid-2010, with a statement of extended support for this end-of-life release. The 2.x branch will see no new major releases after that. 3.x is under active development and has already seen over five years of stable releases, including version 3.3 in 2012, 3.4 in 2014, and 3.5 in 2015. This means that all recent standard library improvements, for example, are only available by default in Python 3.x.\n",
    "\n",
    "* Unless your project uses a significant amount of existing Python 2 legacy code, **use Python 3**"
   ]
  },
  {
   "cell_type": "markdown",
   "metadata": {},
   "source": [
    "![pic](resources/python3tweet.png)"
   ]
  },
  {
   "cell_type": "markdown",
   "metadata": {},
   "source": [
    "* It is possible to write cross compatible code. Many Python 3 features backported to Python 2.7.x, some enabled by default, others can be enabled with an import:"
   ]
  },
  {
   "cell_type": "code",
   "execution_count": 21,
   "metadata": {
    "collapsed": false
   },
   "outputs": [],
   "source": [
    "from __future__ import division, print_function, absolute_import, unicode_literals"
   ]
  },
  {
   "cell_type": "markdown",
   "metadata": {},
   "source": [
    "* Python 3 code with `from __future__ import` at the beginning *may* also run in Python 2.\n",
    "* There are packages for guaranteed compatibility, e.g. [six](https://pythonhosted.org/six/) and [Python-Future](http://python-future.org/index.html)\n",
    "* [Python-Future](http://python-future.org/index.html) also has functions for automatic conversion of code from Python 2 to Python 3 or vice versa (`futurize` and `pasteurize`) "
   ]
  },
  {
   "cell_type": "markdown",
   "metadata": {},
   "source": [
    "# [Scientific Python stack](https://www.scipy.org/)\n",
    "\n",
    "Collection of libraries to support general scientific computing in Python\n",
    "\n",
    "* [**numpy**](http://www.numpy.org/) - N-dimensional arrays, matrices and operations on them\n",
    "* [**Scipy**](https://www.scipy.org/scipylib/index.html) - numerical algorithms including stats, optimization/fitting, image analysis, signal processing, etc.\n",
    "* [**Matplotlib**](http://matplotlib.org/) - plotting library\n",
    "* [**SymPy**](http://www.sympy.org/) - symbolic maths library/Computer Algebra System (CAS)\n",
    "* [**pandas**](http://pandas.pydata.org/) - data structures and data analysis\n",
    "* [**IPython**](http://ipython.org/) - Enhanced interactive Python\n"
   ]
  },
  {
   "cell_type": "code",
   "execution_count": 22,
   "metadata": {
    "collapsed": true
   },
   "outputs": [],
   "source": [
    "import numpy as np\n",
    "from matplotlib import pyplot as plt"
   ]
  },
  {
   "cell_type": "markdown",
   "metadata": {},
   "source": [
    "## IPython & Jupyter"
   ]
  },
  {
   "cell_type": "code",
   "execution_count": 23,
   "metadata": {
    "collapsed": true
   },
   "outputs": [],
   "source": [
    "%matplotlib inline"
   ]
  },
  {
   "cell_type": "markdown",
   "metadata": {},
   "source": [
    "# Astronomical libraries\n",
    "\n",
    "## PyRAF\n",
    "\n",
    "None of that here\n",
    "\n",
    "## Astropy\n",
    "\n",
    "### Affliliated packages"
   ]
  },
  {
   "cell_type": "markdown",
   "metadata": {},
   "source": [
    "# Contributing\n",
    "\n",
    "## "
   ]
  },
  {
   "cell_type": "code",
   "execution_count": null,
   "metadata": {
    "collapsed": true
   },
   "outputs": [],
   "source": []
  }
 ],
 "metadata": {
  "kernelspec": {
   "display_name": "Python 3",
   "language": "python",
   "name": "python3"
  },
  "language_info": {
   "codemirror_mode": {
    "name": "ipython",
    "version": 3
   },
   "file_extension": ".py",
   "mimetype": "text/x-python",
   "name": "python",
   "nbconvert_exporter": "python",
   "pygments_lexer": "ipython3",
   "version": "3.4.3"
  }
 },
 "nbformat": 4,
 "nbformat_minor": 0
}
