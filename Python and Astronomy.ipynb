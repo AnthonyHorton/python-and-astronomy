{
 "cells": [
  {
   "cell_type": "markdown",
   "metadata": {},
   "source": [
    "# Python and Astronomy\n",
    "\n",
    "An overview of Python libraries and resources for (observational) astronomy. This presentation and associated materials are available at https://github.com/AnthonyHorton/python-and-astronomy/\n",
    "\n",
    "---"
   ]
  },
  {
   "cell_type": "markdown",
   "metadata": {},
   "source": [
    "## [Python](http://www.python.org)\n",
    "\n",
    "![Python logo](resources/python-logo.png)\n",
    "\n",
    "* General purpose, interactive, object-orientated high level programming language with a large standard library\n",
    "* Free and open source, available on many platforms\n",
    "* Large & active user community, many 3rd party libraries (Python Package Index, [PyPI](https://pypi.python.org), hosts 79753 packages)\n",
    "* 'Default' programming language for astronomy (though C/C++, FORTRAN, etc., remain important)"
   ]
  },
  {
   "cell_type": "code",
   "execution_count": 1,
   "metadata": {
    "collapsed": true
   },
   "outputs": [
    {
     "name": "stdout",
     "output_type": "stream",
     "text": [
      "The Zen of Python, by Tim Peters\n",
      "\n",
      "Beautiful is better than ugly.\n",
      "Explicit is better than implicit.\n",
      "Simple is better than complex.\n",
      "Complex is better than complicated.\n",
      "Flat is better than nested.\n",
      "Sparse is better than dense.\n",
      "Readability counts.\n",
      "Special cases aren't special enough to break the rules.\n",
      "Although practicality beats purity.\n",
      "Errors should never pass silently.\n",
      "Unless explicitly silenced.\n",
      "In the face of ambiguity, refuse the temptation to guess.\n",
      "There should be one-- and preferably only one --obvious way to do it.\n",
      "Although that way may not be obvious at first unless you're Dutch.\n",
      "Now is better than never.\n",
      "Although never is often better than *right* now.\n",
      "If the implementation is hard to explain, it's a bad idea.\n",
      "If the implementation is easy to explain, it may be a good idea.\n",
      "Namespaces are one honking great idea -- let's do more of those!\n"
     ]
    }
   ],
   "source": [
    "import this"
   ]
  },
  {
   "cell_type": "code",
   "execution_count": 2,
   "metadata": {
    "collapsed": true
   },
   "outputs": [],
   "source": [
    "import antigravity"
   ]
  },
  {
   "cell_type": "markdown",
   "metadata": {},
   "source": [
    "### [Python 2 & 3?](https://wiki.python.org/moin/Python2orPython3)\n",
    "\n",
    "* Two incompatible branches of Python currently supported, 2.x & 3.x\n",
    "* Which to use? From the [Python documentation](https://wiki.python.org/moin/Python2orPython3):\n",
    "\n",
    "> *Short version: Python 2.x is legacy, Python 3.x is the present and future of the language*\n",
    "> \n",
    "> Python 3.0 was released in 2008. The final 2.x version 2.7 release came out in mid-2010, with a statement of extended support for this end-of-life release. The 2.x branch will see no new major releases after that. 3.x is under active development and has already seen over five years of stable releases, including version 3.3 in 2012, 3.4 in 2014, and 3.5 in 2015. This means that all recent standard library improvements, for example, are only available by default in Python 3.x.\n",
    "\n",
    "* Unless your project uses a significant amount of existing Python 2 legacy code, **use Python 3**"
   ]
  },
  {
   "cell_type": "markdown",
   "metadata": {},
   "source": [
    "![pic](resources/python3tweet.png)"
   ]
  },
  {
   "cell_type": "markdown",
   "metadata": {},
   "source": [
    "* It is possible to write cross compatible code. Many Python 3 features backported to Python 2.7.x, some enabled by default, others can be enabled with an import:"
   ]
  },
  {
   "cell_type": "code",
   "execution_count": 3,
   "metadata": {
    "collapsed": false
   },
   "outputs": [],
   "source": [
    "from __future__ import division, print_function, absolute_import, unicode_literals"
   ]
  },
  {
   "cell_type": "markdown",
   "metadata": {},
   "source": [
    "* Python 3 code with `from __future__ import` at the beginning *may* also run in Python 2.\n",
    "* There are packages for guaranteed compatibility, e.g. [six](https://pythonhosted.org/six/) and [Python-Future](http://python-future.org/index.html)\n",
    "* [Python-Future](http://python-future.org/index.html) also has functions for automatic conversion of code from Python 2 to Python 3 or vice versa (`futurize` and `pasteurize`) "
   ]
  },
  {
   "cell_type": "markdown",
   "metadata": {},
   "source": [
    "## [Scientific Python stack](https://www.scipy.org/)\n",
    "\n",
    "![SciPy logo](resources/scipy_org_logo.gif)\n",
    "\n",
    "Collection of libraries to support general scientific computing in Python\n",
    "\n",
    "* [**numpy**](http://www.numpy.org/) - N-dimensional arrays, matrices and operations on them\n",
    "* [**Scipy**](https://www.scipy.org/scipylib/index.html) - numerical algorithms including stats, optimization/fitting, image analysis, signal processing, etc.\n",
    "* [**Matplotlib**](http://matplotlib.org/) - plotting library, includes both a MATLAB-like interactive interface (`pyplot`) and a Pythonic API\n",
    "* [**SymPy**](http://www.sympy.org/) - symbolic maths library/Computer Algebra System (CAS)\n",
    "* [**pandas**](http://pandas.pydata.org/) - data structures and data analysis\n",
    "* [**IPython**](http://ipython.org/) - Enhanced interactive Python\n",
    "\n",
    "An aside for MATLAB users, the numpy documentation includes a [guide specifically for you](https://docs.scipy.org/doc/numpy-dev/user/numpy-for-matlab-users.html) that includes side by side syntax comparison tables."
   ]
  },
  {
   "cell_type": "code",
   "execution_count": 4,
   "metadata": {
    "collapsed": true
   },
   "outputs": [],
   "source": [
    "import numpy as np\n",
    "from matplotlib import pyplot as plt"
   ]
  },
  {
   "cell_type": "markdown",
   "metadata": {},
   "source": [
    "## [IPython](https://ipython.org/) & [Jupyter](http://jupyter.org/)\n",
    "\n",
    "![IPython logo](resources/IPy_header.png)\n",
    "\n",
    "IPython is an interactive Python environment with lots of useful features.\n",
    "\n",
    "* Enhanced shell with syntax highlighting, session history & persistence, autocomplete, inline help, etc.\n",
    "* Support for interactive plotting, GUI toolkits, etc.\n",
    "* Easy to use parallel computing library\n",
    "* Kernel for Jupyter\n",
    "\n",
    "![Jupyter logo](resources/jupyter-logo.jpg)\n",
    "\n",
    "Jupyter is a web application that allows you to create 'notebooks'\n",
    "\n",
    "* Combine code, output, plots, rich text, $\\LaTeX$ equations, embedded media in a single live document\n",
    "* Originally part of IPython but now a separate project supporting 40 languages\n",
    "* Notebooks can be embedded in webpages, exported in various document formats or as plain Python\n",
    "\n",
    "Combination of IPython & Jupyter great for interactive calculations or data analysis, algorithm development"
   ]
  },
  {
   "cell_type": "code",
   "execution_count": 5,
   "metadata": {
    "collapsed": true
   },
   "outputs": [],
   "source": [
    "%matplotlib inline"
   ]
  },
  {
   "cell_type": "markdown",
   "metadata": {},
   "source": [
    "## Astronomical libraries\n",
    "\n",
    "There are lots! How do you decide what to use?\n",
    "\n",
    "### [PyRAF](http://www.stsci.edu/institute/software_hardware/pyraf)\n",
    "\n",
    "A Python interface to the venerable Image Reduction and Analysis Facility, [*IRAF*](http://iraf.noao.edu/). Discussed by Kathleen Labrie on Wednesday.\n",
    "\n",
    "### [Astropy](http://www.astropy.org/)\n",
    "\n",
    "![Astropy logo](resources/astropy_banner_96.png)\n",
    "\n",
    "> \"The Astropy Project is a community effort to develop a single core package for Astronomy in Python and foster interoperability between Python astronomy packages.\"\n",
    "\n",
    "The Astropy Project encompasses the `astropy` core package, affiliated packages and the Astropy community.\n",
    "\n",
    "#### Core package\n",
    "\n",
    "* Provide core functionality/common tools required across astronomy, but don’t try to do everything\n",
    "* Avoid duplication for these core/common tasks\n",
    "* Provide robust framework for building more specialised/complex tools\n",
    "\n",
    "#### Affiliated packages\n",
    "\n",
    "* Astronomy related Python packages outside of the core package but part of Astropy Project community\n",
    "* Often (but not always) intended for eventual inclusion in core package\n",
    "* Required to be at least working towards Astropy standards (documentation, testing, etc.)\n",
    "\n",
    "#### Community\n",
    "\n",
    "* General user & dev discussion via Astropy Mailing list, http://mail.scipy.org/mailman/listinfo/astropy\n",
    "* Dev discussion at http://groups.google.com/group/astropy-dev or #astropy freenode.net IRC channel\n",
    "\n",
    "#### Why use it?\n",
    "\n",
    "Many other Python libraries provide astronomy functions, but... \n",
    "\n",
    "* Astropy is a single library providing most core astronomy functions, & has very few external dependencies (numpy, others optional) => fewer external dependencies for your code, easier to port/share/maintain\n",
    "* Astropy modules designed to work together => easier interoperability than multiple separate libraries\n",
    "* STScI software (inc. JWST analysis tools) based on Astropy & incorporated into it\n",
    "* Enforced standards for interfaces\n",
    "\n",
    "#### `astropy` core package\n",
    "\n",
    "| Core data structures and transformations | Module | [Status](http://docs.astropy.org/en/stable/stability.html) (as of v1.1.2) |\n",
    "|-------------------------------|-----------------|\n",
    "| Constants | `astropy.constants` | Actively developed |\n",
    "| Units and Quantities | `astropy.units` | Reasonably stable |\n",
    "| N-dimensional datasets | `astropy.nddata` | Actively developed |\n",
    "| Data Tables | `astropy.table` | Reasonably stable |\n",
    "| Time and Dates | `astropy.time` | Mature |\n",
    "| Astronomical Coordinate Systems | `astropy.coordinates` | Reasonably stable |\n",
    "| World Coordinate System | `astropy.wcs` | Reasonably stable |\n",
    "| Models and Fitting | `astropy.modeling` | Actively developed |\n",
    "| Analytic Functions | `astropy.analytic_functions` | Actively developed |\n",
    "\n",
    "| Connecting up: Files and I/O | Module | [Status](http://docs.astropy.org/en/stable/stability.html) (as of v1.1.2) |\n",
    "|----------------------------|------------------------|------------|\n",
    "| Unified file read/write interface | | |\n",
    "| FITS File handling | `astropy.io.fits` | Mature |\n",
    "| ASCII Tables | `astropy.io.ascii` | Mature |\n",
    "| VOTable XML handling | `astropy.io.votable` | Mature |\n",
    "| Miscellaneous Input/Output | `astropy.io.misc` | Mature |\n",
    "\n",
    "| Astronomy computations and utilities | Module | [Status](http://docs.astropy.org/en/stable/stability.html) (as of v1.1.2) |\n",
    "|------------------|--------------|---------------|\n",
    "| Convolution and filtering | `astropy.convolution` | Reasonably stable |\n",
    "| Data Visualization | `astropy.visualization` | Actively developed |\n",
    "| Cosmological Calculations | `astropy.cosmology` | Reasonably stable |\n",
    "| Astrostatistics Tools | `astropy.stats` | Actively developed |\n",
    "| Virtual Observatory Access | `astropy.vo` | Reasonably stable |"
   ]
  },
  {
   "cell_type": "markdown",
   "metadata": {},
   "source": [
    "### Astropy examples\n",
    "\n",
    "#### Unit conversions"
   ]
  },
  {
   "cell_type": "code",
   "execution_count": 7,
   "metadata": {
    "collapsed": true
   },
   "outputs": [],
   "source": [
    "import astropy.units as u"
   ]
  },
  {
   "cell_type": "code",
   "execution_count": 38,
   "metadata": {
    "collapsed": false
   },
   "outputs": [],
   "source": [
    "sky_brightness_g = 21 * u.ABmag\n",
    "pivot_wavelength_g = 4750 * u.Angstrom\n",
    "band_width_g = 300 * u.nm\n",
    "pixel_scale = 1.0 * u.arcsecond\n",
    "sky_solid_angle = pixel_scale**2 / u.pixel\n",
    "aperture_area = np.pi * (3.9**2 - 1.5**2) / 4 * u.m**2\n",
    "throughput = 0.7\n",
    "QE = 0.9 * u.electron / u.photon"
   ]
  },
  {
   "cell_type": "code",
   "execution_count": 39,
   "metadata": {
    "collapsed": false
   },
   "outputs": [
    {
     "data": {
      "text/latex": [
       "$1.9205848 \\times 10^{-16} \\; \\mathrm{\\frac{W}{\\mu m\\,m^{2}}}$"
      ],
      "text/plain": [
       "<Quantity 1.9205847834365712e-16 W / (m2 micron)>"
      ]
     },
     "execution_count": 39,
     "metadata": {},
     "output_type": "execute_result"
    }
   ],
   "source": [
    "sky_sfd_g = sky_brightness_g.to(u.Watt / (u.m**2 * u.micron), \\\n",
    "                                equivalencies=u.equivalencies.spectral_density(pivot_wavelength_g))\n",
    "sky_sfd_g"
   ]
  },
  {
   "cell_type": "code",
   "execution_count": 40,
   "metadata": {
    "collapsed": false
   },
   "outputs": [
    {
     "data": {
      "text/latex": [
       "$4.1053261 \\times 10^{-16} \\; \\mathrm{\\frac{W}{pix}}$"
      ],
      "text/plain": [
       "<Quantity 4.105326109462155e-16 W / pix>"
      ]
     },
     "execution_count": 40,
     "metadata": {},
     "output_type": "execute_result"
    }
   ],
   "source": [
    "focal_plane_flux = sky_sfd_g / u.arcsecond**2 * band_width_g * aperture_area * throughput * sky_solid_angle\n",
    "focal_plane_flux.to(u.Watt / u.pixel)"
   ]
  },
  {
   "cell_type": "markdown",
   "metadata": {},
   "source": [
    "## Contributing\n",
    "\n",
    "Cite/acknowledge, etc.\n",
    "\n",
    "Publish, get API\n",
    "\n",
    "DOIs, github\n",
    "\n",
    "ASCL\n",
    "\n",
    "Depsy"
   ]
  },
  {
   "cell_type": "markdown",
   "metadata": {},
   "source": [
    "I/O, time conversions, coordinate conversions, TESTED, MAINTAINED, observation planning, SNR calculations, units, magnitudes, etc.\n",
    "\n",
    "\n",
    "ccdproc, astroquery astroplan specutils \n",
    "\n",
    "Andy did an astroquery Vizier example, getting tabulated data from published paper, gemini archive, astropy fits stuff.. Elainor talked about trustworthiness/reliability of random Python code, in context of time and coordinate conversions."
   ]
  },
  {
   "cell_type": "code",
   "execution_count": null,
   "metadata": {
    "collapsed": true
   },
   "outputs": [],
   "source": []
  }
 ],
 "metadata": {
  "kernelspec": {
   "display_name": "Python 3",
   "language": "python",
   "name": "python3"
  },
  "language_info": {
   "codemirror_mode": {
    "name": "ipython",
    "version": 3
   },
   "file_extension": ".py",
   "mimetype": "text/x-python",
   "name": "python",
   "nbconvert_exporter": "python",
   "pygments_lexer": "ipython3",
   "version": "3.4.3"
  }
 },
 "nbformat": 4,
 "nbformat_minor": 0
}
