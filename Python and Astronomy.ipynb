{
 "cells": [
  {
   "cell_type": "markdown",
   "metadata": {},
   "source": [
    "# Python and Astronomy\n",
    "\n",
    "An overview of Python libraries and resources for (observational) astronomy. This presentation and associated materials are available at https://github.com/AnthonyHorton/python-and-astronomy/\n",
    "\n",
    "---"
   ]
  },
  {
   "cell_type": "markdown",
   "metadata": {},
   "source": [
    "## [Python](http://www.python.org)\n",
    "\n",
    "![Python logo](resources/python-logo.png)\n",
    "\n",
    "* General purpose, interactive, object-orientated high level programming language with a large standard library\n",
    "* Free and open source, available on many platforms\n",
    "* Large & active user community, many 3rd party libraries (Python Package Index, [PyPI](https://pypi.python.org), hosts 79753 packages)\n",
    "* 'Default' programming language for astronomy (though C/C++, FORTRAN, etc., remain important)"
   ]
  },
  {
   "cell_type": "code",
   "execution_count": 1,
   "metadata": {
    "collapsed": true
   },
   "outputs": [
    {
     "name": "stdout",
     "output_type": "stream",
     "text": [
      "The Zen of Python, by Tim Peters\n",
      "\n",
      "Beautiful is better than ugly.\n",
      "Explicit is better than implicit.\n",
      "Simple is better than complex.\n",
      "Complex is better than complicated.\n",
      "Flat is better than nested.\n",
      "Sparse is better than dense.\n",
      "Readability counts.\n",
      "Special cases aren't special enough to break the rules.\n",
      "Although practicality beats purity.\n",
      "Errors should never pass silently.\n",
      "Unless explicitly silenced.\n",
      "In the face of ambiguity, refuse the temptation to guess.\n",
      "There should be one-- and preferably only one --obvious way to do it.\n",
      "Although that way may not be obvious at first unless you're Dutch.\n",
      "Now is better than never.\n",
      "Although never is often better than *right* now.\n",
      "If the implementation is hard to explain, it's a bad idea.\n",
      "If the implementation is easy to explain, it may be a good idea.\n",
      "Namespaces are one honking great idea -- let's do more of those!\n"
     ]
    }
   ],
   "source": [
    "import this"
   ]
  },
  {
   "cell_type": "code",
   "execution_count": 2,
   "metadata": {
    "collapsed": true
   },
   "outputs": [],
   "source": [
    "import antigravity"
   ]
  },
  {
   "cell_type": "markdown",
   "metadata": {},
   "source": [
    "### [Python 2 & 3?](https://wiki.python.org/moin/Python2orPython3)\n",
    "\n",
    "* Two incompatible branches of Python currently supported, 2.x & 3.x\n",
    "* Which to use? From the [Python documentation](https://wiki.python.org/moin/Python2orPython3):\n",
    "\n",
    "> *Short version: Python 2.x is legacy, Python 3.x is the present and future of the language*\n",
    "> \n",
    "> Python 3.0 was released in 2008. The final 2.x version 2.7 release came out in mid-2010, with a statement of extended support for this end-of-life release. The 2.x branch will see no new major releases after that. 3.x is under active development and has already seen over five years of stable releases, including version 3.3 in 2012, 3.4 in 2014, and 3.5 in 2015. This means that all recent standard library improvements, for example, are only available by default in Python 3.x.\n",
    "\n",
    "* Unless your project uses a significant amount of existing Python 2 legacy code, **use Python 3**"
   ]
  },
  {
   "cell_type": "markdown",
   "metadata": {},
   "source": [
    "![pic](resources/python3tweet.png)"
   ]
  },
  {
   "cell_type": "markdown",
   "metadata": {},
   "source": [
    "* It is possible to write cross compatible code. Many Python 3 features backported to Python 2.7.x, some enabled by default, others can be enabled with an import:"
   ]
  },
  {
   "cell_type": "code",
   "execution_count": 3,
   "metadata": {
    "collapsed": false
   },
   "outputs": [],
   "source": [
    "from __future__ import division, print_function, absolute_import, unicode_literals"
   ]
  },
  {
   "cell_type": "markdown",
   "metadata": {},
   "source": [
    "* Python 3 code with `from __future__ import` at the beginning *may* also run in Python 2.\n",
    "* There are packages for guaranteed compatibility, e.g. [six](https://pythonhosted.org/six/) and [Python-Future](http://python-future.org/index.html)\n",
    "* [Python-Future](http://python-future.org/index.html) also has functions for automatic conversion of code from Python 2 to Python 3 or vice versa (`futurize` and `pasteurize`) "
   ]
  },
  {
   "cell_type": "markdown",
   "metadata": {},
   "source": [
    "## [Scientific Python stack](https://www.scipy.org/)\n",
    "\n",
    "![SciPy logo](resources/scipy_org_logo.gif)\n",
    "\n",
    "Collection of libraries to support general scientific computing in Python\n",
    "\n",
    "* [**numpy**](http://www.numpy.org/) - N-dimensional arrays, matrices and operations on them\n",
    "* [**Scipy**](https://www.scipy.org/scipylib/index.html) - numerical algorithms including stats, optimization/fitting, image analysis, signal processing, etc.\n",
    "* [**Matplotlib**](http://matplotlib.org/) - plotting library, includes both a MATLAB-like interactive interface (`pyplot`) and a Pythonic API\n",
    "* [**SymPy**](http://www.sympy.org/) - symbolic maths library/Computer Algebra System (CAS)\n",
    "* [**pandas**](http://pandas.pydata.org/) - data structures and data analysis\n",
    "* [**IPython**](http://ipython.org/) - Enhanced interactive Python\n",
    "\n",
    "An aside for MATLAB users, the numpy documentation includes a [guide specifically for you](https://docs.scipy.org/doc/numpy-dev/user/numpy-for-matlab-users.html) that includes side by side syntax comparison tables."
   ]
  },
  {
   "cell_type": "code",
   "execution_count": 4,
   "metadata": {
    "collapsed": true
   },
   "outputs": [],
   "source": [
    "import numpy as np\n",
    "from matplotlib import pyplot as plt"
   ]
  },
  {
   "cell_type": "code",
   "execution_count": 5,
   "metadata": {
    "collapsed": true
   },
   "outputs": [],
   "source": [
    "%matplotlib inline"
   ]
  },
  {
   "cell_type": "markdown",
   "metadata": {},
   "source": [
    "## [IPython](https://ipython.org/) & [Jupyter](http://jupyter.org/)\n",
    "\n",
    "![IPython logo](resources/IPy_header.png)\n",
    "\n",
    "IPython is an interactive Python environment with lots of useful features.\n",
    "\n",
    "* Enhanced shell with syntax highlighting, session history & persistence, autocomplete, inline help, etc.\n",
    "* Support for interactive plotting, GUI toolkits, etc.\n",
    "* Easy to use parallel computing library\n",
    "* Kernel for Jupyter\n",
    "\n",
    "![Jupyter logo](resources/jupyter-logo.jpg)\n",
    "\n",
    "Jupyter is a web application that allows you to create 'notebooks'\n",
    "\n",
    "* Combine code, output, plots, rich text, $\\LaTeX$ equations, embedded media in a single live document\n",
    "* Originally part of IPython but now a separate project supporting 40 languages\n",
    "* Notebooks can be embedded in webpages, exported in various document formats or as plain Python\n",
    "\n",
    "Combination of IPython & Jupyter great for interactive calculations or data analysis, algorithm development"
   ]
  },
  {
   "cell_type": "markdown",
   "metadata": {},
   "source": [
    "## Astronomical libraries\n",
    "\n",
    "There are lots! How do you decide what to use?\n",
    "\n",
    "### [PyRAF](http://www.stsci.edu/institute/software_hardware/pyraf)\n",
    "\n",
    "A Python interface to the venerable Image Reduction and Analysis Facility, [*IRAF*](http://iraf.noao.edu/). Discussed by Kathleen Labrie on Wednesday.\n",
    "\n",
    "### [Astropy](http://www.astropy.org/)\n",
    "\n",
    "![Astropy logo](resources/astropy_banner_96.png)\n",
    "\n",
    "> \"The Astropy Project is a community effort to develop a single core package for Astronomy in Python and foster interoperability between Python astronomy packages.\"\n",
    "\n",
    "The Astropy Project encompasses the `astropy` core package, affiliated packages and the Astropy community.\n",
    "\n",
    "#### Core package\n",
    "\n",
    "* Provide core functionality/common tools required across astronomy, but don’t try to do everything\n",
    "* Avoid duplication for these core/common tasks\n",
    "* Provide robust framework for building more specialised/complex tools\n",
    "\n",
    "#### Affiliated packages\n",
    "\n",
    "* Astronomy related Python packages outside of the core package but part of Astropy Project community\n",
    "* Often (but not always) intended for eventual inclusion in core package\n",
    "* Required to be at least working towards Astropy standards (documentation, testing, etc.)\n",
    "\n",
    "#### Community\n",
    "\n",
    "* General user & dev discussion via Astropy Mailing list, http://mail.scipy.org/mailman/listinfo/astropy\n",
    "* Dev discussion at http://groups.google.com/group/astropy-dev or #astropy freenode.net IRC channel\n",
    "\n",
    "#### Why use it?\n",
    "\n",
    "Many other Python libraries provide astronomy functions, but... \n",
    "\n",
    "* Astropy is well documented, tested and actively maintained\n",
    "* Astropy is a single library providing most core astronomy functions, & has very few external dependencies (numpy, others optional) => fewer external dependencies for your code, easier to port/share/maintain\n",
    "* Astropy modules designed to work together => easier interoperability than multiple separate libraries\n",
    "* STScI software (inc. JWST analysis tools) based on Astropy & incorporated into it\n",
    "\n",
    "#### [`astropy`](http://docs.astropy.org/en/stable/) core package\n",
    "\n",
    "| Core data structures and transformations | Module | [Status](http://docs.astropy.org/en/stable/stability.html) (as of v1.1.2) |\n",
    "|-------------------------------|-----------------|\n",
    "| Constants | `astropy.constants` | Reasonably stable |\n",
    "| Units and Quantities | `astropy.units` | Reasonably stable |\n",
    "| N-dimensional datasets | `astropy.nddata` | Actively developed |\n",
    "| Data Tables | `astropy.table` | Reasonably stable |\n",
    "| Time and Dates | `astropy.time` | Mature |\n",
    "| Astronomical Coordinate Systems | `astropy.coordinates` | Reasonably stable |\n",
    "| World Coordinate System | `astropy.wcs` | Reasonably stable |\n",
    "| Models and Fitting | `astropy.modeling` | Actively developed |\n",
    "| Analytic Functions | `astropy.analytic_functions` | Actively developed |\n",
    "\n",
    "| Connecting up: Files and I/O | Module | [Status](http://docs.astropy.org/en/stable/stability.html) (as of v1.1.2) |\n",
    "|----------------------------|------------------------|------------|\n",
    "| Unified file read/write interface | | |\n",
    "| FITS File handling | `astropy.io.fits` | Mature |\n",
    "| ASCII Tables | `astropy.io.ascii` | Mature |\n",
    "| VOTable XML handling | `astropy.io.votable` | Mature |\n",
    "| Miscellaneous Input/Output | `astropy.io.misc` | Mature |\n",
    "\n",
    "| Astronomy computations and utilities | Module | [Status](http://docs.astropy.org/en/stable/stability.html) (as of v1.1.2) |\n",
    "|------------------|--------------|---------------|\n",
    "| Convolution and filtering | `astropy.convolution` | Reasonably stable |\n",
    "| Data Visualization | `astropy.visualization` | Actively developed |\n",
    "| Cosmological Calculations | `astropy.cosmology` | Reasonably stable |\n",
    "| Astrostatistics Tools | `astropy.stats` | Actively developed |\n",
    "| Virtual Observatory Access | `astropy.vo` | Reasonably stable |\n"
   ]
  },
  {
   "cell_type": "markdown",
   "metadata": {},
   "source": [
    "### Astropy examples\n",
    "\n",
    "#### Units & constants\n",
    "\n",
    "The Astropy [`units`](http://docs.astropy.org/en/stable/units/index.html) module provides the very useful [`Quantity`](http://docs.astropy.org/en/stable/api/astropy.units.Quantity.html#astropy.units.Quantity) class, a drop in replacement for numpy `Array` that includes units, checking and conversions. It's not limited to simply multiplicative conversions, through '[equivalencies](http://docs.astropy.org/en/stable/units/equivalencies.html)' it  can do more conversions including parallax, angles, spectral units, doppler shifts, spectral flux density and brightness temperature. Also included are logarithmic units, including astronomical magnitudes.\n",
    "\n",
    "Using these features makes all sorts of code simpler to write and, more importantly, *less error prone*."
   ]
  },
  {
   "cell_type": "code",
   "execution_count": 41,
   "metadata": {
    "collapsed": true
   },
   "outputs": [],
   "source": [
    "import astropy.units as u\n",
    "import astropy.constants as c"
   ]
  },
  {
   "cell_type": "code",
   "execution_count": 61,
   "metadata": {
    "collapsed": false
   },
   "outputs": [
    {
     "data": {
      "text/latex": [
       "$659.28 \\; \\mathrm{nm}$"
      ],
      "text/plain": [
       "<Quantity 659.28 nm>"
      ]
     },
     "execution_count": 61,
     "metadata": {},
     "output_type": "execute_result"
    }
   ],
   "source": [
    "658.28 * u.nm + 10 * u.Angstrom"
   ]
  },
  {
   "cell_type": "code",
   "execution_count": 65,
   "metadata": {
    "collapsed": true
   },
   "outputs": [
    {
     "ename": "UnitsError",
     "evalue": "Can only apply 'add' function to dimensionless quantities when other argument is not a quantity (unless the latter is all zero/infinity/nan)",
     "output_type": "error",
     "traceback": [
      "\u001b[1;31m---------------------------------------------------------------------------\u001b[0m",
      "\u001b[1;31mUnitsError\u001b[0m                                Traceback (most recent call last)",
      "\u001b[1;32m<ipython-input-65-bbe3a116b0ed>\u001b[0m in \u001b[0;36m<module>\u001b[1;34m()\u001b[0m\n\u001b[1;32m----> 1\u001b[1;33m \u001b[1;36m658.29\u001b[0m \u001b[1;33m*\u001b[0m \u001b[0mu\u001b[0m\u001b[1;33m.\u001b[0m\u001b[0mnm\u001b[0m \u001b[1;33m+\u001b[0m \u001b[1;36m10\u001b[0m\u001b[1;33m\u001b[0m\u001b[0m\n\u001b[0m",
      "\u001b[1;32m/mnt/data/ajh/Documents/virtualenvs/python3.4.3/lib/python3.4/site-packages/astropy/units/quantity.py\u001b[0m in \u001b[0;36m__array_prepare__\u001b[1;34m(self, obj, context)\u001b[0m\n\u001b[0;32m    344\u001b[0m                                      \u001b[1;34m\"argument is not a quantity (unless the \"\u001b[0m\u001b[1;33m\u001b[0m\u001b[0m\n\u001b[0;32m    345\u001b[0m                                      \u001b[1;34m\"latter is all zero/infinity/nan)\"\u001b[0m\u001b[1;33m\u001b[0m\u001b[0m\n\u001b[1;32m--> 346\u001b[1;33m                                      .format(function.__name__))\n\u001b[0m\u001b[0;32m    347\u001b[0m             \u001b[1;32mexcept\u001b[0m \u001b[0mTypeError\u001b[0m\u001b[1;33m:\u001b[0m\u001b[1;33m\u001b[0m\u001b[0m\n\u001b[0;32m    348\u001b[0m                 \u001b[1;31m# _can_have_arbitrary_unit failed: arg could not be compared\u001b[0m\u001b[1;33m\u001b[0m\u001b[1;33m\u001b[0m\u001b[0m\n",
      "\u001b[1;31mUnitsError\u001b[0m: Can only apply 'add' function to dimensionless quantities when other argument is not a quantity (unless the latter is all zero/infinity/nan)"
     ]
    }
   ],
   "source": [
    "658.29 * u.nm + 10"
   ]
  },
  {
   "cell_type": "markdown",
   "metadata": {},
   "source": [
    "A more realistic example, converting sky background surface brightness in magnitudes per square arcsecond to electrons s$^{-1}$ pixel$^{-1}$ as might be required as part of a SNR calculation.\n",
    "\n",
    "First set up some parameters, assume imaging in $g'$ and $r'$ bands with a 3.9m telescope equipped with an efficient 1''/pixel camera and dark sky background of $g'=22.5$, $r'=21.5$  AB mag arsecond$^{-2}$"
   ]
  },
  {
   "cell_type": "code",
   "execution_count": 54,
   "metadata": {
    "collapsed": false
   },
   "outputs": [],
   "source": [
    "sky_brightness_gr = (22.5, 21.5) * u.ABmag\n",
    "pivot_wavelength_gr = (4702, 6175) * u.Angstrom\n",
    "band_width_gr = (138.7, 137.3) * u.nm\n",
    "pixel_scale = 1.0 * u.arcsecond\n",
    "sky_solid_angle = pixel_scale**2 / u.pixel\n",
    "aperture_area = np.pi * (3.9**2 - 1.5**2) / 4 * u.m**2\n",
    "throughput = 0.7\n",
    "QE = 0.9 * u.electron / u.photon"
   ]
  },
  {
   "cell_type": "markdown",
   "metadata": {},
   "source": [
    "Convert astronomical magnitudes to physical spectral flux density units"
   ]
  },
  {
   "cell_type": "code",
   "execution_count": 73,
   "metadata": {
    "collapsed": false
   },
   "outputs": [
    {
     "data": {
      "text/latex": [
       "$[4.9232904 \\times 10^{-17},~7.1704561 \\times 10^{-17}] \\; \\mathrm{\\frac{W}{\\mu m\\,m^{2}}}$"
      ],
      "text/plain": [
       "<Quantity [  4.92329040e-17,  7.17045606e-17] W / (m2 micron)>"
      ]
     },
     "execution_count": 73,
     "metadata": {},
     "output_type": "execute_result"
    }
   ],
   "source": [
    "sky_sfd_gr = sky_brightness_gr.to(u.Watt / (u.m**2 * u.micron), \\\n",
    "                                equivalencies=u.equivalencies.spectral_density(pivot_wavelength_gr))\n",
    "sky_sfd_gr"
   ]
  },
  {
   "cell_type": "markdown",
   "metadata": {},
   "source": [
    "Multiply by filter band width, telescope aperture area, throughput and solid angle to get energy flux per pixel."
   ]
  },
  {
   "cell_type": "code",
   "execution_count": 74,
   "metadata": {
    "collapsed": false
   },
   "outputs": [
    {
     "data": {
      "text/latex": [
       "$[4.8654704 \\times 10^{-17},~7.0147184 \\times 10^{-17}] \\; \\mathrm{\\frac{W}{pix}}$"
      ],
      "text/plain": [
       "<Quantity [  4.86547043e-17,  7.01471837e-17] W / pix>"
      ]
     },
     "execution_count": 74,
     "metadata": {},
     "output_type": "execute_result"
    }
   ],
   "source": [
    "focal_plane_flux = sky_sfd_gr * band_width_gr * aperture_area * throughput * sky_solid_angle / u.arcsecond**2\n",
    "focal_plane_flux.to(u.Watt / u.pixel)"
   ]
  },
  {
   "cell_type": "markdown",
   "metadata": {},
   "source": [
    "Characteristic photon energy for the filter bands"
   ]
  },
  {
   "cell_type": "code",
   "execution_count": 75,
   "metadata": {
    "collapsed": false
   },
   "outputs": [
    {
     "data": {
      "text/latex": [
       "$[4.2246824 \\times 10^{-19},~3.2169161 \\times 10^{-19}] \\; \\mathrm{\\frac{J}{ph}}$"
      ],
      "text/plain": [
       "<Quantity [  4.22468244e-19,  3.21691609e-19] J / ph>"
      ]
     },
     "execution_count": 75,
     "metadata": {},
     "output_type": "execute_result"
    }
   ],
   "source": [
    "photon_energy_gr = c.h * c.c / (pivot_wavelength_gr * u.photon)\n",
    "photon_energy_gr.to(u.J / u.photon)"
   ]
  },
  {
   "cell_type": "markdown",
   "metadata": {},
   "source": [
    "Divide energy flux per pixel by photon energy to get photon flux and multiply by QE to get electron rate"
   ]
  },
  {
   "cell_type": "code",
   "execution_count": 76,
   "metadata": {
    "collapsed": false
   },
   "outputs": [
    {
     "data": {
      "text/latex": [
       "$[103.65095,~196.25151] \\; \\mathrm{\\frac{e^{-}}{pix\\,s}}$"
      ],
      "text/plain": [
       "<Quantity [ 103.65094769, 196.25151418] electron / (pix s)>"
      ]
     },
     "execution_count": 76,
     "metadata": {},
     "output_type": "execute_result"
    }
   ],
   "source": [
    "electron_rate = focal_plane_flux / photon_energy_gr * QE\n",
    "electron_rate.to(u.electron / (u.second * u.pixel))"
   ]
  },
  {
   "cell_type": "markdown",
   "metadata": {},
   "source": [
    "#### Tables"
   ]
  },
  {
   "cell_type": "code",
   "execution_count": 79,
   "metadata": {
    "collapsed": false
   },
   "outputs": [],
   "source": [
    "from astropy.table import Table"
   ]
  },
  {
   "cell_type": "code",
   "execution_count": 93,
   "metadata": {
    "collapsed": false
   },
   "outputs": [
    {
     "name": "stdout",
     "output_type": "stream",
     "text": [
      "ID,RA,dec,g_mag\n",
      "1,04 23 15.3,-22 36 19,26.5\n",
      "2,22 17 34.7,+02 22 59,23.4\n",
      "3,10 44 29.1,-48 29 51,24.0\n",
      "4,09 14 23.1,-10 10 41,27.3\n",
      "5,15 51 11.6,+13 43 17,25.1\n",
      "\n"
     ]
    }
   ],
   "source": [
    "with open('resources/nonsense.csv') as f:\n",
    "    print(f.read())"
   ]
  },
  {
   "cell_type": "code",
   "execution_count": 84,
   "metadata": {
    "collapsed": false
   },
   "outputs": [
    {
     "data": {
      "text/html": [
       "&lt;Table length=5&gt;\n",
       "<table id=\"table140042950841344\">\n",
       "<thead><tr><th>ID</th><th>RA</th><th>dec</th><th>g_mag</th></tr></thead>\n",
       "<thead><tr><th>int64</th><th>str10</th><th>str9</th><th>float64</th></tr></thead>\n",
       "<tr><td>1</td><td>04 23 15.3</td><td>-22 36 19</td><td>26.5</td></tr>\n",
       "<tr><td>2</td><td>22 17 34.7</td><td>+02 22 59</td><td>23.4</td></tr>\n",
       "<tr><td>3</td><td>10 44 29.1</td><td>-48 29 51</td><td>24.0</td></tr>\n",
       "<tr><td>4</td><td>09 14 23.1</td><td>-10 10 41</td><td>27.3</td></tr>\n",
       "<tr><td>5</td><td>15 51 11.6</td><td>+13 43 17</td><td>25.1</td></tr>\n",
       "</table>"
      ],
      "text/plain": [
       "<Table length=5>\n",
       "  ID      RA        dec     g_mag \n",
       "int64   str10       str9   float64\n",
       "----- ---------- --------- -------\n",
       "    1 04 23 15.3 -22 36 19    26.5\n",
       "    2 22 17 34.7 +02 22 59    23.4\n",
       "    3 10 44 29.1 -48 29 51    24.0\n",
       "    4 09 14 23.1 -10 10 41    27.3\n",
       "    5 15 51 11.6 +13 43 17    25.1"
      ]
     },
     "execution_count": 84,
     "metadata": {},
     "output_type": "execute_result"
    }
   ],
   "source": [
    "nonsense = Table.read('resources/nonsense.csv')\n",
    "nonsense"
   ]
  },
  {
   "cell_type": "code",
   "execution_count": 96,
   "metadata": {
    "collapsed": true
   },
   "outputs": [],
   "source": [
    "nonsense.write('resources/nonsense.tex', format='ascii.aastex')"
   ]
  },
  {
   "cell_type": "code",
   "execution_count": 97,
   "metadata": {
    "collapsed": false
   },
   "outputs": [
    {
     "name": "stdout",
     "output_type": "stream",
     "text": [
      "\\begin{deluxetable}{cccc}\n",
      "\\tablehead{\\colhead{ID} & \\colhead{RA} & \\colhead{dec} & \\colhead{g_mag}}\n",
      "\\startdata\n",
      "1 & 04 23 15.3 & -22 36 19 & 26.5 \\\\\n",
      "2 & 22 17 34.7 & +02 22 59 & 23.4 \\\\\n",
      "3 & 10 44 29.1 & -48 29 51 & 24.0 \\\\\n",
      "4 & 09 14 23.1 & -10 10 41 & 27.3 \\\\\n",
      "5 & 15 51 11.6 & +13 43 17 & 25.1\n",
      "\\enddata\n",
      "\\end{deluxetable}\n",
      "\n"
     ]
    }
   ],
   "source": [
    "with open('resources/nonsense.tex') as f:\n",
    "    print(f.read())"
   ]
  },
  {
   "cell_type": "markdown",
   "metadata": {},
   "source": [
    "### [Astropy Affiliated Packages](http://www.astropy.org/affiliated/index.html)\n",
    "\n",
    "The Astropy [affiliated package list](http://www.astropy.org/affiliated/index.html) is the place to look for more specific tools that are not in the Astropy core library. To be registered packages must comply with Astropy standards:\n",
    "\n",
    "* Use astropy classes/functions where possible\n",
    "* Have proper documentation\n",
    "* Include a test suite\n",
    "* Connect with Astropy developer community\n",
    "* Follow Astropy coding guidelines \n",
    "* Python 3 compatibility\n",
    "\n",
    "#### Registered affiliated packages\n",
    "\n",
    "| Package | Stable | Maintainer |\n",
    "|---|---|---|\n",
    "| [Astro-SCRAPPY](http://github.com/astropy/astroscrappy) | Yes | Curtis McCully |\n",
    "| [astroplan](https://astroplan.readthedocs.org/)\t| No | Brett Morris |\n",
    "| [astroquery](http://astroquery.readthedocs.org) | Yes | Adam Ginsburg |\n",
    "| [ccdproc](http://ccdproc.readthedocs.org) | Yes | Steven Crawford and Matt Craig |\n",
    "| [gwcs](http://gwcs.readthedocs.org) | No | Nadia Dencheva |\n",
    "| [Halotools](https://github.com/astropy/halotools) | Yes | Andrew Hearin |\n",
    "| [montage-wrapper](http://www.astropy.org/montage-wrapper/) | Yes | Thomas Robitaille |\n",
    "| [naima](https://naima.readthedocs.org/) | Yes | Victor Zabalza |\n",
    "| [photutils](http://photutils.readthedocs.org/) | No | Larry Bradley and Brigitta Sipocz |\n",
    "| [pydl](https://github.com/weaverba137/pydl) | No | Benjamin Alan Weaver |\n",
    "| [sncosmo](https://sncosmo.github.io) | Yes | Kyle Barbary |\n",
    "| [spectral-cube](http://spectral-cube.rtfd.org) | Yes | Adam Ginsburg |\n",
    "| [specutils](http://specutils.readthedocs.org) | No | Wolfgang Kerzendorf |\n",
    "| [WCSAxes](http://wcsaxes.readthedocs.org) | Yes |\tThomas Robitaille |\n",
    "\n",
    "\n",
    "#### Provisionally accepted packages\n",
    "\n",
    "These don't yet meet all Astropy standards but must be working towards meeting them.\n",
    "\n",
    "| Package | Stable | Maintainer |\n",
    "|---|\n",
    "| [APLpy](http://aplpy.github.io) | Yes | Thomas Robitaille and Eli Bressert |\n",
    "| [astroML](http://astroml.github.com/)\t| Yes |\tJake Vanderplas |\n",
    "| [galpy](http://galpy.readthedocs.org/en/latest/) | Yes | Jo Bovy |\n",
    "| [gammapy](https://gammapy.readthedocs.org/) | No | Christoph Deil |\n",
    "| [ginga](http://ejeschke.github.com/ginga) | Yes |\tEric Jeschke |\n",
    "| [Glue](http://www.glue-viz.org) | Yes | Chris Beaumont and Thomas Robitaille |\n",
    "| [imexam](http://imexam.readthedocs.org/imexam/index.html) | No | Megan Sosey |\n",
    "| [MaLTPyNT](https://http://maltpynt.readthedocs.org) | Yes | Matteo Bachetti |\n",
    "| [omnifit](https://ricemunk.github.io/omnifit/) | Yes | Aleksi Suutarinen |\n",
    "| [pyregion](http://pyregion.readthedocs.org) | Yes\t| Jae-Joon Lee |\n",
    "| [python-cpl](http://python-cpl.readthedocs.org) | No | Ole Streicher |\n",
    "| [PyVO](http://dev.usvao.org/vao/wiki/Products/PyVO) | No | Ray Plante |\n",
    "| [reproject](http://reproject.readthedocs.org) | Yes | Thomas Robitaille |\n",
    "| [spherical_geometry](https://spacetelescope.github.io/sphere/spherical_geometry/) | No | Bernie Simon and Michael Droettboom |\n"
   ]
  },
  {
   "cell_type": "markdown",
   "metadata": {},
   "source": [
    "## Contributing\n",
    "\n",
    "Cite/acknowledge, etc.\n",
    "\n",
    "Publish, get API\n",
    "\n",
    "DOIs, github\n",
    "\n",
    "ASCL\n",
    "\n",
    "Depsy"
   ]
  },
  {
   "cell_type": "markdown",
   "metadata": {},
   "source": [
    "I/O, time conversions, coordinate conversions, TESTED, MAINTAINED, observation planning, SNR calculations, units, magnitudes, etc.\n",
    "\n",
    "\n",
    "ccdproc, astroquery astroplan specutils \n",
    "\n",
    "Andy did an astroquery Vizier example, getting tabulated data from published paper, gemini archive, astropy fits stuff.. Elainor talked about trustworthiness/reliability of random Python code, in context of time and coordinate conversions."
   ]
  },
  {
   "cell_type": "code",
   "execution_count": 98,
   "metadata": {
    "collapsed": true
   },
   "outputs": [],
   "source": [
    "import subprocess"
   ]
  },
  {
   "cell_type": "code",
   "execution_count": 100,
   "metadata": {
    "collapsed": false
   },
   "outputs": [
    {
     "data": {
      "text/plain": [
       "0"
      ]
     },
     "execution_count": 100,
     "metadata": {},
     "output_type": "execute_result"
    }
   ],
   "source": [
    "subprocess.call('ds9')"
   ]
  },
  {
   "cell_type": "code",
   "execution_count": null,
   "metadata": {
    "collapsed": true
   },
   "outputs": [],
   "source": []
  }
 ],
 "metadata": {
  "kernelspec": {
   "display_name": "Python 3",
   "language": "python",
   "name": "python3"
  },
  "language_info": {
   "codemirror_mode": {
    "name": "ipython",
    "version": 3
   },
   "file_extension": ".py",
   "mimetype": "text/x-python",
   "name": "python",
   "nbconvert_exporter": "python",
   "pygments_lexer": "ipython3",
   "version": "3.4.3"
  }
 },
 "nbformat": 4,
 "nbformat_minor": 0
}
